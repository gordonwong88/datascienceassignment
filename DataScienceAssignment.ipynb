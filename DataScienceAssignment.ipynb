{
 "cells": [
  {
   "cell_type": "markdown",
   "id": "8034a43e",
   "metadata": {},
   "source": [
    "# Data Science Assignment"
   ]
  },
  {
   "cell_type": "markdown",
   "id": "eb4526e5",
   "metadata": {},
   "source": [
    "This notebook is summarizing the data science tools."
   ]
  },
  {
   "cell_type": "markdown",
   "id": "681c69fa",
   "metadata": {},
   "source": [
    "A List of Data Science Languages:\n",
    "\n",
    "1. Python\n",
    "2. SQL\n",
    "3. R\n",
    "4. C++\n",
    "5. Java\n",
    "...and also others"
   ]
  },
  {
   "cell_type": "markdown",
   "id": "a257d71d",
   "metadata": {},
   "source": [
    "A List of data sceince libraries:\n",
    "\n",
    "1. TensorFlow\n",
    "2. SciPy\n",
    "3. Pandas\n",
    "4. NumPy\n",
    "5. Keras\n",
    "6. Matplotlib\n",
    "7. SciKit-Learn\n",
    "8. PyTorch and others"
   ]
  },
  {
   "cell_type": "markdown",
   "id": "491fb39b",
   "metadata": {},
   "source": [
    "|Data Science Tools|\n",
    "|---|\n",
    "|TensorFlow|\n",
    "|SAS|\n",
    "|Hadoop|\n"
   ]
  },
  {
   "cell_type": "markdown",
   "id": "08448b48",
   "metadata": {},
   "source": [
    "### An Arithmetic expression example"
   ]
  },
  {
   "cell_type": "code",
   "execution_count": 6,
   "id": "75103b7b",
   "metadata": {},
   "outputs": [
    {
     "data": {
      "text/plain": [
       "5"
      ]
     },
     "execution_count": 6,
     "metadata": {},
     "output_type": "execute_result"
    }
   ],
   "source": [
    "#an example to multiply and add integers\n",
    "(1*2)+3"
   ]
  },
  {
   "cell_type": "code",
   "execution_count": 7,
   "id": "05b0e33b",
   "metadata": {},
   "outputs": [
    {
     "data": {
      "text/plain": [
       "5.0"
      ]
     },
     "execution_count": 7,
     "metadata": {},
     "output_type": "execute_result"
    }
   ],
   "source": [
    "#convert mins to hours, convert 300 minutes in hours\n",
    "300/60"
   ]
  },
  {
   "cell_type": "markdown",
   "id": "c078d258",
   "metadata": {},
   "source": [
    "__Objectives__\n",
    "* List of Data Science languages\n",
    "* List of data science libraries\n",
    "* List of Data Science Tools\n",
    "* Providing comments to cells"
   ]
  },
  {
   "cell_type": "markdown",
   "id": "b3fcbcb8",
   "metadata": {},
   "source": [
    "# Author\n",
    "Gordon Wong"
   ]
  }
 ],
 "metadata": {
  "kernelspec": {
   "display_name": "Python 3 (ipykernel)",
   "language": "python",
   "name": "python3"
  },
  "language_info": {
   "codemirror_mode": {
    "name": "ipython",
    "version": 3
   },
   "file_extension": ".py",
   "mimetype": "text/x-python",
   "name": "python",
   "nbconvert_exporter": "python",
   "pygments_lexer": "ipython3",
   "version": "3.7.1"
  }
 },
 "nbformat": 4,
 "nbformat_minor": 5
}
